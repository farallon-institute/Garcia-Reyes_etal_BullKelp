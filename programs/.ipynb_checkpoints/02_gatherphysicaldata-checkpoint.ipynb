{
 "cells": [
  {
   "cell_type": "code",
   "execution_count": null,
   "metadata": {},
   "outputs": [],
   "source": [
    "# Gather physical data for analysis w kelp\n",
    "# calculate trends and seasonal correlations\n",
    "# daily SST histogram from N14"
   ]
  },
  {
   "cell_type": "code",
   "execution_count": null,
   "metadata": {},
   "outputs": [],
   "source": [
    "import xarray as xr\n",
    "import matplotlib.pyplot as plt\n",
    "import numpy as np\n",
    "import pandas as pd\n",
    "import scipy.stats as stat\n",
    "from scipy.stats import pearsonr\n",
    "from sklearn.preprocessing import PolynomialFeatures\n",
    "from statsmodels.sandbox.regression.predstd import wls_prediction_std\n",
    "import statsmodels.api as sm\n",
    " \n",
    "import warnings\n",
    "warnings.simplefilter('ignore') #filter some warning messages"
   ]
  },
  {
   "cell_type": "code",
   "execution_count": null,
   "metadata": {},
   "outputs": [],
   "source": [
    "fecha1 = '1983-01-01'\n",
    "fecha2 = '2020-12-01'"
   ]
  },
  {
   "cell_type": "code",
   "execution_count": null,
   "metadata": {},
   "outputs": [],
   "source": [
    "# upwelling index (here only to add the time)\n",
    "# https://www.pfeg.noaa.gov/products/PFELData/upwell/monthly/upindex.mon\n",
    "# https://oceanwatch.pfeg.noaa.gov/products/PFELData/upwell/monthly/upindex.mon\n",
    "ds2 = pd.read_csv('../data/UI-39N.csv')\n",
    "ds2 = ds2.rename(columns={'Unnamed: 0':'Year'})\n",
    "ds2['Day']=1\n",
    "ds2 = ds2.reindex(columns=['Year','Month','Day','UI-39N'])\n",
    "fechas = pd.to_datetime(ds2[list(ds2)[:3]])\n",
    "upw = xr.DataArray(ds2['UI-39N'], coords=[fechas], dims=['time'])\n",
    "#upwseas = upw.resample(time='3MS').mean()\n",
    "upw = upw.sel(time=slice(fecha1,fecha2))\n",
    "upw_seas=upw.resample(time='3MS').mean()\n",
    "t = upw_seas.time.values\n",
    "alldt = pd.DataFrame(data=upw_seas.values, index=upw_seas.time.values, columns=['UI39N'])"
   ]
  },
  {
   "cell_type": "code",
   "execution_count": null,
   "metadata": {},
   "outputs": [],
   "source": [
    "# MOCI \n",
    "# http://www.faralloninstitute.org/moci\n",
    "ds3 = pd.read_csv('../data/CaliforniaMOCI_JFM1991-OND2020.csv')\n",
    "ds3 = ds3.rename(columns={'North California (38-42N)':'NorCal MOCI'})\n",
    "ds3 = ds3.rename(columns={'Central California (34.5-38N)':'CenCal MOCI'})\n",
    "ds3 = ds3.rename(columns={'Southern California (32-34.5N)':'SoCal MOCI'})\n",
    "\n",
    "alldt['NorCal MOCI']=np.nan\n",
    "alldt['NorCal MOCI'][32:]=ds3['NorCal MOCI'].values\n",
    "alldt['CenCal MOCI']=np.nan\n",
    "alldt['CenCal MOCI'][32:]=ds3['CenCal MOCI'].values\n",
    "alldt['SoCal MOCI']=np.nan\n",
    "alldt['SoCal MOCI'][32:]=ds3['SoCal MOCI'].values"
   ]
  },
  {
   "cell_type": "code",
   "execution_count": null,
   "metadata": {},
   "outputs": [],
   "source": [
    "# BEUTI\n",
    "# https://oceanview.pfeg.noaa.gov/data/ui/BEUTI_monthly.csv\n",
    "ds0 = pd.read_csv('../data/BEUTI_monthly.csv')\n",
    "ds0 = ds0.rename(columns={'Unnamed: 0':'Year'})\n",
    "ds0['day']=1\n",
    "lats = ['41N','39N','37N','35N']\n",
    "ds0 = ds0.reindex(columns=['year','month','day','41N','39N','37N','35N'])\n",
    "fechas = pd.to_datetime(ds0[list(ds0)[:3]])\n",
    "for i in range(4): \n",
    "    beuti = xr.DataArray(ds0[lats[i]], coords=[fechas], dims=['time'])\n",
    "    beuti = beuti.sel(time=slice(fecha1,fecha2))\n",
    "    beuti_seas=beuti.resample(time='3MS').mean()\n",
    "    alldt['BEUTI '+lats[i]]=np.nan\n",
    "    alldt['BEUTI '+lats[i]][20:]=beuti_seas.values"
   ]
  },
  {
   "cell_type": "code",
   "execution_count": null,
   "metadata": {},
   "outputs": [],
   "source": [
    "# buoy data (SST for buoyos 46014 and 46013) https://www.ndbc.noaa.gov/  \n",
    "# climate indice: MEI - https://www.esrl.noaa.gov/psd/enso/mei/data/meiv2.data\n",
    "# PDO - https://oceanview.pfeg.noaa.gov/erddap/tabledap/cciea_OC_PDO.htmlTable?time,PDO\n",
    "# NPGO - http://www.o3d.org/npgo/npgo.php\n",
    "var = ['SST', 'SST', 'MEI', 'PDO','NPGO']\n",
    "varfile = ['46014mf.csv','46013mf.csv','MEI.csv','PDO.csv','NPGO.csv'] # buoys gaps filled w OISST\n",
    "for i,ii in enumerate(var):\n",
    "    ds1 = pd.read_csv('../data/'+varfile[i])\n",
    "    ds1['Day']=1\n",
    "    if i<2:\n",
    "        ds1 = ds1.reindex(columns=['YEAR','MONTH','Day',ii])\n",
    "    else:\n",
    "        ds1 = ds1.rename(columns={'Unnamed: 0':'Year'})\n",
    "        ds1 = ds1.reindex(columns=['Year','Month','Day',ii])\n",
    "    fechas = pd.to_datetime(ds1[list(ds1)[:3]])\n",
    "\n",
    "    tmp =  xr.DataArray(ds1[ii], coords=[fechas], dims=['time'])\n",
    "    tmp = tmp.sel(time=slice(fecha1,fecha2))\n",
    "    tmp_seas=tmp.resample(time='3MS').mean()\n",
    "    if i==0:\n",
    "        ii2 = ii+'N14'\n",
    "    elif i==1:\n",
    "        ii2 = ii+'N13'\n",
    "    else:\n",
    "        ii2 = ii\n",
    "    alldt[ii2]=np.nan\n",
    "    alldt[ii2]= tmp_seas.values\n",
    "alldt=alldt[['NorCal MOCI','CenCal MOCI','SoCal MOCI','SSTN14','SSTN13','BEUTI 41N',\n",
    " 'BEUTI 39N','BEUTI 37N', 'UI39N','MEI','PDO','NPGO']]"
   ]
  },
  {
   "cell_type": "code",
   "execution_count": null,
   "metadata": {},
   "outputs": [],
   "source": [
    "# save data\n",
    "alldt.to_csv('../data/environmentaldata_seasonal_July2021.csv')"
   ]
  },
  {
   "cell_type": "code",
   "execution_count": null,
   "metadata": {
    "scrolled": false
   },
   "outputs": [],
   "source": [
    "# plot data for supplementary\n",
    "alldt = alldt[pd.DatetimeIndex(alldt.index).year>=1991]\n",
    "a1 = pd.DatetimeIndex(alldt.index).month==1\n",
    "a4 = pd.DatetimeIndex(alldt.index).month==4\n",
    "a7 = pd.DatetimeIndex(alldt.index).month==7\n",
    "a10 = pd.DatetimeIndex(alldt.index).month==10\n",
    "unts = ['m$^3$/s/100m','No units','No units','No units',\n",
    "        'mmol/m/s','mmol/m/s','mmol/m/s','mmol/m/s','$^\\circ$C','$^\\circ$C',\n",
    "        'No units','No units', 'No units']\n",
    "yrs = range(1991,2021)\n",
    "for ii,i in enumerate(list(alldt)):\n",
    "    plt.figure(figsize=(6,3), dpi=150)\n",
    "    plt.plot(yrs,alldt[i][a1],'o-',label='Winter (JFM)', alpha=0.6)\n",
    "    plt.plot(yrs,alldt[i][a4],'d-',label='Spring (AMJ)', alpha=0.6)\n",
    "    plt.plot(yrs,alldt[i][a7],'+-',label='Summer (JAS)', alpha=0.6)\n",
    "    plt.plot(yrs,alldt[i][a10],'s-',label='Fall (OND)', alpha=0.6)\n",
    "    plt.grid(True, alpha=0.3)\n",
    "    if (i!='SSTN14') & (i!='SSTN13'):\n",
    "        plt.axhline(y=0, color='k', alpha=0.5, lw=1, zorder=0)\n",
    "    plt.legend(loc=0, fontsize='x-small')\n",
    "    plt.title(i)\n",
    "    plt.ylabel(unts[ii])\n",
    "    plt.xlabel('Year')\n",
    "    plt.tight_layout()\n",
    "    fign='../figures/Fig_S'+str(ii+3).zfill(2)+'.png'\n",
    "    plt.savefig(fign)\n",
    "    plt.show()\n"
   ]
  },
  {
   "cell_type": "code",
   "execution_count": null,
   "metadata": {},
   "outputs": [],
   "source": [
    "def linreg_deg1(x,y):\n",
    "    # linear regression\n",
    "    # clean, ready variables\n",
    "    bx = ~np.isnan(x)\n",
    "    by = ~np.isnan(y)\n",
    "    nx = x[bx&by]\n",
    "    ny = y[bx&by]\n",
    "    nx = nx.reshape(-1,1)\n",
    "    ny = ny.reshape(-1,1)\n",
    "\n",
    "    # first degree\n",
    "    polf = PolynomialFeatures(1)\n",
    "    xp = polf.fit_transform(nx)\n",
    "    mods2 = sm.OLS(ny,xp).fit()\n",
    "    \n",
    "    # only if significant, return r2 value\n",
    "    if mods2.pvalues[1]<=0.05:\n",
    "        r2 = mods2.rsquared\n",
    "        \n",
    "        # print summary\n",
    "        #print(mods2.summary())\n",
    "        lab='R2='+str(np.round(mods2.rsquared,2))\n",
    "        print(lab)\n",
    "        print(np.round(mods2.pvalues[1],3))   \n",
    "        #print(mods2.summary())"
   ]
  },
  {
   "cell_type": "code",
   "execution_count": null,
   "metadata": {
    "scrolled": true
   },
   "outputs": [],
   "source": [
    "# winter linear trends, pre-collapse 1991-2013\n",
    "alldt2 = alldt[pd.DatetimeIndex(alldt.index).year<2014]\n",
    "for j in list(alldt2):\n",
    "    print('\\n\\n',j, 'Winter')\n",
    "    a = pd.DatetimeIndex(alldt2.index).month==ii # winter MOCI\n",
    "    linreg_deg1(np.array([*range(1991,2014)]),alldt2[j][a].values)"
   ]
  },
  {
   "cell_type": "code",
   "execution_count": null,
   "metadata": {
    "scrolled": true
   },
   "outputs": [],
   "source": [
    "# winter linear trends 1991-2020\n",
    "alldt2 = alldt.copy()\n",
    "for j in list(alldt2):\n",
    "    print('\\n\\n',j, 'winter')\n",
    "    a = pd.DatetimeIndex(alldt2.index).month==1 # winter MOCI\n",
    "    linreg_deg1(np.array([*range(1991,2021)]),alldt2[j][a].values)"
   ]
  },
  {
   "cell_type": "code",
   "execution_count": null,
   "metadata": {},
   "outputs": [],
   "source": [
    "# Correlations between seasons (1991-2020)\n",
    "def corr_seas(seas1,seas2):\n",
    "    env = alldt.copy()\n",
    "    a = pd.DatetimeIndex(env.index).month==seas1 \n",
    "    wenv = env[a]\n",
    "    a = pd.DatetimeIndex(env.index).month==seas2 \n",
    "    senv = env[a]\n",
    "    for i in list(wenv):\n",
    "        rho,ps=stat.spearmanr(wenv[i],senv[i],nan_policy='omit')\n",
    "        print(i,'\\t', np.round(rho,2), np.round(ps,2))\n",
    "        \n",
    "print('Correlations winter, summer')\n",
    "corr_seas(1,7)\n",
    "\n",
    "print('\\n\\nCorrelations winter, spring')\n",
    "corr_seas(1,4)\n",
    "\n",
    "print('\\n\\nCorrelations spring, summer')\n",
    "corr_seas(4,7)"
   ]
  },
  {
   "cell_type": "code",
   "execution_count": null,
   "metadata": {},
   "outputs": [],
   "source": [
    "# correlations fall-1, winter\n",
    "env = alldt.copy()\n",
    "a = pd.DatetimeIndex(env.index).month==1 # winter \n",
    "wenv = env[a]\n",
    "a = pd.DatetimeIndex(env.index).month==10 # winter \n",
    "senv = env[a]\n",
    "for i in list(wenv):\n",
    "    rho,ps=stat.spearmanr(wenv[i][1:],senv[i][:-1],nan_policy='omit')\n",
    "    rho,ps=stat.spearmanr(wenv[i],senv[i],nan_policy='omit')\n",
    "    print(i,'\\t', np.round(rho,2), np.round(ps,2))"
   ]
  },
  {
   "cell_type": "code",
   "execution_count": null,
   "metadata": {},
   "outputs": [],
   "source": [
    "# plot histogram of daily values of buoy N14 SST data - filled with OISST\n",
    "import seaborn as sns\n",
    "n14=pd.read_csv('../data/46014d_fSST.csv', index_col=0)\n",
    "## winter 1991-2020\n",
    "a = n14[(n14['MONTH']<4)&(n14['YEAR']>1990)&(n14['YEAR']<2021)]['SST']\n",
    "sns.distplot(a, color=\"red\",  label='SSTN14')\n",
    "plt.title('N14 daily SST, 1991-2020')\n",
    "plt.text(14.4,0.35,'Max='+str(max(a))+'C')\n",
    "plt.savefig('../figures/FS16.png')\n",
    "plt.show()\n"
   ]
  },
  {
   "cell_type": "code",
   "execution_count": null,
   "metadata": {},
   "outputs": [],
   "source": []
  }
 ],
 "metadata": {
  "kernelspec": {
   "display_name": "Python 3 (ipykernel)",
   "language": "python",
   "name": "python3"
  },
  "language_info": {
   "codemirror_mode": {
    "name": "ipython",
    "version": 3
   },
   "file_extension": ".py",
   "mimetype": "text/x-python",
   "name": "python",
   "nbconvert_exporter": "python",
   "pygments_lexer": "ipython3",
   "version": "3.7.6"
  }
 },
 "nbformat": 4,
 "nbformat_minor": 4
}
