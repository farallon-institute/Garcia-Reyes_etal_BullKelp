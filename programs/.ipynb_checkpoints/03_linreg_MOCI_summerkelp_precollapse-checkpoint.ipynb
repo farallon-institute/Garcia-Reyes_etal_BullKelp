{
 "cells": [
  {
   "cell_type": "code",
   "execution_count": null,
   "metadata": {},
   "outputs": [],
   "source": [
    "import xarray as xr\n",
    "import numpy as np\n",
    "import pandas as pd\n",
    "import matplotlib.pyplot as plt\n",
    "import scipy.stats as stat\n",
    "from scipy.stats import pearsonr\n",
    "from sklearn.preprocessing import PolynomialFeatures\n",
    "from statsmodels.sandbox.regression.predstd import wls_prediction_std\n",
    "import statsmodels.api as sm\n",
    "    \n",
    "import warnings\n",
    "warnings.simplefilter('ignore') #filter some warning messages"
   ]
  },
  {
   "cell_type": "markdown",
   "metadata": {},
   "source": [
    "# calculate liner regression (order 1) between\n",
    "# fall-1, winter, spring, summer MOCIs and summer kelp\n",
    "# up to 2013 - precollapse "
   ]
  },
  {
   "cell_type": "code",
   "execution_count": null,
   "metadata": {},
   "outputs": [],
   "source": [
    "### select variables\n",
    "\n",
    "# read data calculated in previous scripts\n",
    "iy = 1991\n",
    "fy = 2013\n",
    "kelp = pd.read_csv('../data/BullKelp_summer_July2021.csv',index_col=0)\n",
    "kelp = kelp[kelp.index>=iy]# 1985\n",
    "kelp = kelp[kelp.index<=fy]\n",
    "kelp_nm = list(list(kelp))\n",
    "print(list(kelp))\n",
    "\n",
    "env = pd.read_csv('../data/environmentaldata_seasonal_July2021.csv',index_col=0)\n",
    "env = env[pd.DatetimeIndex(env.index).year>=iy]\n",
    "env = env[pd.DatetimeIndex(env.index).year<=fy]\n",
    "env = env[['NorCal MOCI', 'CenCal MOCI', 'SoCal MOCI']]\n",
    "env_nm = list(env)\n",
    "print(env_nm)\n",
    "          \n",
    "seas = ['Winter','Spring','Summer','Fall-1']"
   ]
  },
  {
   "cell_type": "code",
   "execution_count": null,
   "metadata": {},
   "outputs": [],
   "source": [
    "r2_nkelp = np.full((len(env_nm),4),np.nan) # r2 for significant regressions\n",
    "r2_skelp = np.full((len(env_nm),4),np.nan) # r2 for significant regressions"
   ]
  },
  {
   "cell_type": "code",
   "execution_count": null,
   "metadata": {},
   "outputs": [],
   "source": [
    "def linreg_deg1(x, y, yr, plots=False, labx='', laby='', sign=1):\n",
    "    # calculate linear regressions\n",
    "    # clean, ready variables\n",
    "    bx = ~np.isnan(x)\n",
    "    by = ~np.isnan(y)\n",
    "    nx = x[bx&by]\n",
    "    ny = np.log(y[bx&by])\n",
    "    nyrs = yr[bx&by]\n",
    "    sorx = np.argsort(nx) # sort nx for plotting\n",
    "    nx = nx.reshape(-1,1)\n",
    "    ny = ny.reshape(-1,1)\n",
    "\n",
    "    # first degree\n",
    "    polf = PolynomialFeatures(1)\n",
    "    xp = polf.fit_transform(nx)\n",
    "    mods2 = sm.OLS(ny,xp).fit()\n",
    "    \n",
    "    # only if significant, return r2 value\n",
    "    if mods2.pvalues[1]<=0.05:\n",
    "        r2 = mods2.rsquared\n",
    "        \n",
    "        # print summary\n",
    "        print(mods2.summary())\n",
    "        lab='R2='+str(np.round(mods2.rsquared,2))\n",
    "        print(lab)\n",
    "        print('AIC = ',np.round(mods2.aic,1))\n",
    "        \n",
    "        pc = pearsonr(nx[:,0],ny[:,0])\n",
    "        print('Pearson Correlation = ', pc)\n",
    "    \n",
    "    else:\n",
    "        r2 = np.nan\n",
    "            \n",
    "    # plot if requested\n",
    "    if (r2 > 0.3) & plots:\n",
    "        # sign\n",
    "        \n",
    "        #sc = np.sign(stat.pearsonr(nx,ny))\n",
    "        \n",
    "        sc = np.sign(pc[0])\n",
    "        \n",
    "        # nx x var for predictions\n",
    "        nx2 = np.arange(nx.min(), nx.max()+0.01, 0.01).reshape(-1,1)\n",
    "        xp2 = polf.fit_transform(nx2)\n",
    "        \n",
    "        # boundaries\n",
    "        _, upper,lower = wls_prediction_std(mods2)\n",
    "        #lab='r2='+str(np.round(mods2.rsquared_adj,2))\n",
    "        \n",
    "        plt.figure()\n",
    "        plt.scatter(nx,ny,60,c=nyrs, edgecolor='grey', cmap='plasma') # orginal data\n",
    "        plt.colorbar(ticks=range(nyrs[0],nyrs[-1]+1,2))\n",
    "        plt.plot(nx2,mods2.predict(xp2),'b-', label=lab) # prediction - line\n",
    "        plt.plot(nx[sorx],upper[sorx],':',c='r') # confid. intrvl\n",
    "        plt.plot(nx[sorx],lower[sorx],':',c='r')\n",
    "        plt.ylabel(laby,fontsize=14)\n",
    "        plt.xlabel(labx,fontsize=14)\n",
    "        plt.grid(True, alpha=0.3)\n",
    "        plt.legend(loc=0,fontsize=14)\n",
    "        plt.show()\n",
    "\n",
    "        fig, ax1 = plt.subplots()\n",
    "        ax1.plot(yr,x,'o-',c='tab:blue')\n",
    "        ax1.set_ylabel(labx, color='tab:blue', fontsize=14)\n",
    "        ax1.tick_params(axis='y', labelcolor='tab:blue')\n",
    "        ax2 = ax1.twinx()\n",
    "        ax2.plot(yr,y,'d-', c='tab:red')\n",
    "        if sc==-1:\n",
    "            ax2.invert_yaxis()\n",
    "        ax2.set_ylabel('log('+laby+')', color='tab:red', fontsize=14)\n",
    "        ax2.tick_params(axis='y', labelcolor='tab:red')\n",
    "        ax2.tick_params(axis='x', labelcolor='grey')\n",
    "        plt.grid(True, alpha=0.3)\n",
    "        plt.show()\n",
    "        \n",
    "    return r2"
   ]
  },
  {
   "cell_type": "code",
   "execution_count": null,
   "metadata": {},
   "outputs": [],
   "source": [
    "# north kelp regression for same year seasons (winter/spring/summer/fall-1) MOCI\n",
    "print('North Kelp')\n",
    "for i, ii in enumerate([1,4,7,10]): # seasons\n",
    "    for j, jj in enumerate(env_nm):\n",
    "        print('\\n\\n', seas[i], ' - ', jj)\n",
    "        a = pd.DatetimeIndex(env.index).month==ii #  MOCI\n",
    "        x = env[jj][a].values\n",
    "        y = kelp['North Kelp'].values\n",
    "        yr = kelp.index.values\n",
    "        if ii<10:\n",
    "            r2_nkelp[j,i] = linreg_deg1(x, y, yr, True, jj, 'North Kelp')\n",
    "        else:\n",
    "            r2_nkelp[j,i] = linreg_deg1(x[:-1], y[1:], yr[1:], True, jj, 'North Kelp')\n"
   ]
  },
  {
   "cell_type": "code",
   "execution_count": null,
   "metadata": {
    "scrolled": true
   },
   "outputs": [],
   "source": [
    "# south kelp\n",
    "print('South Kelp')\n",
    "for i, ii in enumerate([1,4,7,10]): # seasons\n",
    "    for j, jj in enumerate(env_nm):\n",
    "        print('\\n\\n', seas[i], ' - ', jj)\n",
    "        a = pd.DatetimeIndex(env.index).month==ii #  MOCI seasons\n",
    "        x = env[jj][a].values\n",
    "        y = kelp['South Kelp'].values\n",
    "        yr = kelp.index.values\n",
    "        if ii<10:\n",
    "            r2_skelp[j,i] = linreg_deg1(x, y, yr, True, jj, 'South Kelp')\n",
    "        else:\n",
    "            r2_nkelp[j,i] = linreg_deg1(x[:-1], y[1:], yr[1:], True, jj, 'North Kelp')"
   ]
  },
  {
   "cell_type": "code",
   "execution_count": null,
   "metadata": {},
   "outputs": [],
   "source": []
  }
 ],
 "metadata": {
  "kernelspec": {
   "display_name": "Python 3 (ipykernel)",
   "language": "python",
   "name": "python3"
  },
  "language_info": {
   "codemirror_mode": {
    "name": "ipython",
    "version": 3
   },
   "file_extension": ".py",
   "mimetype": "text/x-python",
   "name": "python",
   "nbconvert_exporter": "python",
   "pygments_lexer": "ipython3",
   "version": "3.7.6"
  }
 },
 "nbformat": 4,
 "nbformat_minor": 4
}
